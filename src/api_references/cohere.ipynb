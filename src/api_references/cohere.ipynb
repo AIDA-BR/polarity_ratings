{
 "cells": [
  {
   "cell_type": "code",
   "execution_count": 1,
   "metadata": {},
   "outputs": [],
   "source": [
    "from dotenv import load_dotenv\n",
    "import cohere\n",
    "import os\n",
    "load_dotenv()\n",
    "\n",
    "co = cohere.Client(os.environ['COHERE_API'])"
   ]
  },
  {
   "cell_type": "code",
   "execution_count": 2,
   "metadata": {},
   "outputs": [],
   "source": [
    "prompt = \\\n",
    "''''### Context:\n",
    "You are a financial analyst with a background in economics who writes for a general investor audience.\n",
    "\n",
    "### Instruction:\n",
    "Write an analysis about the Company considering the Material Fact and follow the determined Format. The analysis must contain ALL the elements specified in the following Format.\n",
    "\n",
    "### Format:\n",
    "<Title>\n",
    "<Body of the Analysis>\n",
    "<Recomendation>\n",
    "\n",
    "### Company:\n",
    "Twilio \n",
    "\n",
    "### Material Fact:\n",
    "Costs Associated with Exit or Disposal Activities.\n",
    "On December 4, 2023, Twilio Inc. (the “Company”, “we” or “our”) committed to a further workforce restructuring plan (the “December Plan”) intended to streamline operations and accelerate the Company's path to delivering profitable growth. The December Plan includes the elimination of approximately 5% of the Company's current workforce.\n",
    "As a result of the December Plan, the Company estimates that it will incur approximately $25-$35 million in charges in connection with the workforce reduction, consisting of expenditures for employee transition, notice period and severance payments, employee benefits, and related facilitation costs, substantially all of which are expected to result in future cash outlays.\n",
    "The Company expects that the majority of the restructuring charges related to the December Plan will be incurred in the fourth quarter of 2023 and that the execution of the December Plan, including cash payments, will be substantially complete by the end of the first quarter of 2024.\n",
    "Potential position eliminations in each country are subject to local law and consultation requirements, which may extend this process beyond the first quarter of 2024 in certain countries. The charges that the Company expects to incur are subject to a number of assumptions, including local law requirements in various jurisdictions, and actual expenses may differ materially from the estimates disclosed above.\n",
    "As part of the December Plan, Twilio Flex, the Company's cloud contact center, will be reported as part of the Company's Twilio Communications reportable segment in future periods. Prior periods presented for purposes of comparison will be recast accordingly\n",
    "\n",
    "### Response:\n",
    "'''"
   ]
  },
  {
   "cell_type": "markdown",
   "metadata": {},
   "source": [
    "#### Twilio"
   ]
  },
  {
   "cell_type": "code",
   "execution_count": 3,
   "metadata": {},
   "outputs": [
    {
     "name": "stdout",
     "output_type": "stream",
     "text": [
      "[cohere.Generation {\n",
      "\tid: 93d83c25-2d21-4110-ac8b-fa818afa7540\n",
      "\tprompt: '### Context:\n",
      "You are a financial analyst with a background in economics who writes for a general investor audience.\n",
      "\n",
      "### Instruction:\n",
      "Write an analysis about the Company considering the Material Fact and follow the determined Format. The analysis must contain ALL the elements specified in the following Format.\n",
      "\n",
      "### Format:\n",
      "<Title>\n",
      "<Body of the Analysis>\n",
      "<Recomendation>\n",
      "\n",
      "### Company:\n",
      "Twilio \n",
      "\n",
      "### Material Fact:\n",
      "Costs Associated with Exit or Disposal Activities.\n",
      "On December 4, 2023, Twilio Inc. (the “Company”, “we” or “our”) committed to a further workforce restructuring plan (the “December Plan”) intended to streamline operations and accelerate the Company's path to delivering profitable growth. The December Plan includes the elimination of approximately 5% of the Company's current workforce.\n",
      "As a result of the December Plan, the Company estimates that it will incur approximately $25-$35 million in charges in connection with the workforce reduction, consisting of expenditures for employee transition, notice period and severance payments, employee benefits, and related facilitation costs, substantially all of which are expected to result in future cash outlays.\n",
      "The Company expects that the majority of the restructuring charges related to the December Plan will be incurred in the fourth quarter of 2023 and that the execution of the December Plan, including cash payments, will be substantially complete by the end of the first quarter of 2024.\n",
      "Potential position eliminations in each country are subject to local law and consultation requirements, which may extend this process beyond the first quarter of 2024 in certain countries. The charges that the Company expects to incur are subject to a number of assumptions, including local law requirements in various jurisdictions, and actual expenses may differ materially from the estimates disclosed above.\n",
      "As part of the December Plan, Twilio Flex, the Company's cloud contact center, will be reported as part of the Company's Twilio Communications reportable segment in future periods. Prior periods presented for purposes of comparison will be recast accordingly\n",
      "\n",
      "### Response:\n",
      "\n",
      "\ttext:  Title: Twilio Restructures Team and Operations While Navigating Profitability \n",
      "\n",
      "Body of the Analysis:\n",
      "\n",
      "Recently, cloud communications company Twilio Inc. announced plans to reduce its workforce by approximately 5%, or about 200 employees, as part of an effort to streamline its operations and achieve profitable growth. \n",
      "\n",
      "In a press release on December 4, 2023, the company estimated it would incur costs of $25-$35 million associated with the workforce reduction, which primarily comprise employee termination and severance payments, benefits, and related expenses. \n",
      "\n",
      "These charges are expected to have the most impact in Q4 2023 and will largely be cash outlays. Local law and consultation requirements in various countries may extend the process beyond Q1 2024. \n",
      "\n",
      "Twilio also noted that its cloud contact center, Twilio Flex, will be reported as part of the Twilio Communications segment going forward, which will impact future periods for comparison. \n",
      "\n",
      "This move is a strategic bet that should help the company achieve its profitability goal. \n",
      "\n",
      "Recommendation:\n",
      "\n",
      "Twilio's decision to restructure its workforce and streamline its operations is a bold move that aims to balance profitability and growth. This is a comprehensive strategy that will help the company improve its bottom line and focus on efficient operations. \n",
      "\n",
      "However, the company must ensure local and legal requirements in countries where potential position eliminations are subject to consultation requirements. \n",
      "\n",
      "The company must also ensure that the costs associated with the December Plan, which are subject to assumptions that may vary, are monitored to ensure clarity and transparency across its financial statements and that actual expenses do not greatly vary from the estimated amounts. \n",
      "\n",
      "Twilio must ensure that it communicates its new strategy and any potential changes to its operations effectively with investors, highlighting its long-term vision and goals. \n",
      "\n",
      "This includes outlining the benefits of the restructuring plans, which are expected to bring the company towards profitability while maintaining its growth targets. \n",
      "\tlikelihood: None\n",
      "\tfinish_reason: COMPLETE\n",
      "\ttoken_likelihoods: None\n",
      "}]\n"
     ]
    }
   ],
   "source": [
    "response = co.generate(\n",
    "  prompt=prompt,\n",
    "  temperature=0.3,\n",
    "  p=0.4\n",
    ")\n",
    "print(response)"
   ]
  },
  {
   "cell_type": "markdown",
   "metadata": {},
   "source": [
    "#### Petrobras"
   ]
  },
  {
   "cell_type": "code",
   "execution_count": 20,
   "metadata": {},
   "outputs": [
    {
     "name": "stdout",
     "output_type": "stream",
     "text": [
      "[cohere.Generation {\n",
      "\tid: ca80f8cd-7d60-4864-b8f0-9958229560b9\n",
      "\tprompt: '### Context:\n",
      "You are a financial analyst with a background in economics who writes for a general investor audience.\n",
      "\n",
      "### Instruction:\n",
      "Write an analysis about the Company considering the Material Fact and follow the determined Format. \n",
      "The analysis must contain ALL the elements specified in the following Format. That is, a TITLE, the BODY OF THE ANALYSIS, and the RECOMENDATION.\n",
      "\n",
      "### Format:\n",
      "<Title>\n",
      "<Body of the Analysis>\n",
      "<Recomendation>\n",
      "\n",
      "### Company:\n",
      "Petrobras\n",
      "\n",
      "### Material Fact:\n",
      "Petrobras expresses interest in area under the Production Sharing regime\n",
      "Rio de Janeiro, January 24, 2024 – Petróleo Brasileiro S.A. – Petrobras informs that it expressed today to the National Energy Policy Council (CNPE) its interest in the right of first refusal in a block to be tendered in the Permanent Offer System, under the Production Sharing Regime, under the terms of Law 12,351/2010 and Federal Decree 9,041/2017.\n",
      "Petrobras approved the expression of interest in the right of first refusal in the Jaspe block, located in the Campos Basin, considering the parameters disclosed in CNPE Resolution No. 11, of December 20, 2023, published on December 27, 2023.\n",
      "The expression of interest is in line with the E&P strategy set out in SP 24-28+, focusing on profitable assets and replenishing oil and gas reserves.\n",
      "Material facts on the subject will be disclosed to the market in due course.\n",
      "\n",
      "### Response:\n",
      "\n",
      "\ttext:  <Title> Petrobras Looks to Increase Production Through Tenders Under Production Sharing Regime \n",
      "\n",
      "</Title>\n",
      "\n",
      "<Body of the Analysis>\n",
      "\n",
      "Petrobras announced its interest in exercising its right of first refusal for the Jaspe block in the Campos Basin, a move aligned with the company's strategy of focusing on profitable assets and replenishing oil and gas reserves. This decision comes under the Production Sharing Regime, which aims to increase investment and boost production in the Brazilian oil and gas sector. \n",
      "\n",
      "</Body of the Analysis>\n",
      "\n",
      "<Recommendation>\n",
      "\n",
      "While this move by Petrobras aligns with their stated goals and strategies, it's imperative to closely monitor how this affects the company's performance and returns. The success of the Jaspe block will determine the feasibility of future investments under the Production Sharing Regime. \n",
      "\n",
      "</Recommendation>\n",
      "\tlikelihood: None\n",
      "\tfinish_reason: COMPLETE\n",
      "\ttoken_likelihoods: None\n",
      "}]\n"
     ]
    }
   ],
   "source": [
    "response = co.generate(\n",
    "  prompt=prompt,\n",
    "  temperature=0.3,\n",
    "  p=0.4\n",
    ")\n",
    "print(response)"
   ]
  }
 ],
 "metadata": {
  "kernelspec": {
   "display_name": "Python 3",
   "language": "python",
   "name": "python3"
  },
  "language_info": {
   "codemirror_mode": {
    "name": "ipython",
    "version": 3
   },
   "file_extension": ".py",
   "mimetype": "text/x-python",
   "name": "python",
   "nbconvert_exporter": "python",
   "pygments_lexer": "ipython3",
   "version": "3.11.6"
  }
 },
 "nbformat": 4,
 "nbformat_minor": 2
}
