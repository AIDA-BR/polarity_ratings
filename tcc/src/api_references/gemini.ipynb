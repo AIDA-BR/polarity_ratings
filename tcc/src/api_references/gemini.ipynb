{
 "cells": [
  {
   "cell_type": "code",
   "execution_count": null,
   "metadata": {},
   "outputs": [],
   "source": [
    "import vertexai\n",
    "from vertexai.preview.generative_models import GenerativeModel, Part\n",
    "\n",
    "def generate():\n",
    "  model = GenerativeModel(\"gemini-pro\")\n",
    "  responses = model.generate_content(\n",
    "    \"\"\"### Context:\n",
    "You are a financial analyst with a background in economics who writes for a general investor audience.\n",
    "\n",
    "### Instruction:\n",
    "Write an analysis about the Company considering the Material Fact and follow the determined Format. The analysis must contain ALL the elements specified in the following Format. Follow the format, that is the analysis should contain a TITLE, the BODY OF ANALYSIS, and a RECOMENDATION.\n",
    "\n",
    "\n",
    "### Company:\n",
    "Petrobras\n",
    "\n",
    "### Material Fact:\n",
    "Petrobras expresses interest in area under the Production Sharing regime\n",
    "Rio de Janeiro, January 24, 2024 – Petróleo Brasileiro S.A. – Petrobras informs that it expressed today to the National Energy Policy Council (CNPE) its interest in the right of first refusal in a block to be tendered in the Permanent Offer System, under the Production Sharing Regime, under the terms of Law 12,351/2010 and Federal Decree 9,041/2017.\n",
    "Petrobras approved the expression of interest in the right of first refusal in the Jaspe block, located in the Campos Basin, considering the parameters disclosed in CNPE Resolution No. 11, of December 20, 2023, published on December 27, 2023.\n",
    "The expression of interest is in line with the E&P strategy set out in SP 24-28+, focusing on profitable assets and replenishing oil and gas reserves.\n",
    "Material facts on the subject will be disclosed to the market in due course.\n",
    "\n",
    "### Response:\"\"\",\n",
    "    generation_config={\n",
    "        \"max_output_tokens\": 2000,\n",
    "        \"temperature\": 0.3,\n",
    "        \"top_p\": 0.4\n",
    "    },\n",
    "  stream=True,\n",
    "  )\n",
    "  \n",
    "  for response in responses:\n",
    "      print(response.text, end=\"\")\n",
    "\n",
    "\n",
    "generate()"
   ]
  }
 ],
 "metadata": {
  "language_info": {
   "name": "python"
  }
 },
 "nbformat": 4,
 "nbformat_minor": 2
}
