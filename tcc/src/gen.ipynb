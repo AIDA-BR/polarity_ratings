{
 "cells": [
  {
   "cell_type": "code",
   "execution_count": 1,
   "metadata": {},
   "outputs": [],
   "source": [
    "from langchain.prompts import ChatPromptTemplate\n",
    "from langchain.chat_models import ChatOpenAI\n",
    "from dotenv import load_dotenv\n",
    "import tiktoken\n",
    "import openai\n",
    "import json\n",
    "import os"
   ]
  },
  {
   "cell_type": "code",
   "execution_count": 2,
   "metadata": {},
   "outputs": [],
   "source": [
    "load_dotenv()\n",
    "os.environ['OPENAI_API_KEY']\n",
    "llm_model = \"gpt-3.5-turbo-1106\" #\"gpt-3.5-turbo\"\n",
    "encoding = tiktoken.encoding_for_model(llm_model)\n",
    "openai.api_key = os.environ['OPENAI_API_KEY']\n",
    "\n",
    "model = ChatOpenAI(temperature=0.0, model_name=llm_model)"
   ]
  },
  {
   "cell_type": "code",
   "execution_count": 3,
   "metadata": {},
   "outputs": [],
   "source": [
    "def num_tokens_from_string(string: str, encoding) -> int:\n",
    "    \"\"\"Returns the number of tokens in a text string.\"\"\"\n",
    "    num_tokens = len(encoding.encode(string))\n",
    "    return num_tokens"
   ]
  },
  {
   "cell_type": "code",
   "execution_count": 4,
   "metadata": {},
   "outputs": [],
   "source": [
    "with open('..//data//prompts_modules//prompt_template.json', encoding='utf-8') as arq_ppts_templates:\n",
    "  prompts = json.load(arq_ppts_templates)\n",
    "  \n",
    "prompt_string = prompts[\"basic\"][\"prompt_sem_intro\"]\n",
    "prompt_template = ChatPromptTemplate.from_template(prompt_string)"
   ]
  },
  {
   "cell_type": "code",
   "execution_count": 5,
   "metadata": {},
   "outputs": [],
   "source": [
    "empresa = \"Eneva\"\n",
    "\n",
    "with open('..//data//prompts_modules//relevant_facts.json', encoding='utf-8') as arq_fatos:\n",
    "  fatos = json.load(arq_fatos)\n",
    "  \n",
    "fato_path = fatos[\"eneva_281123\"][\"path\"]\n",
    "\n",
    "with open('..//' + fato_path, encoding='utf-8') as arq_fato:\n",
    "  fato = arq_fato.read()"
   ]
  },
  {
   "cell_type": "code",
   "execution_count": 6,
   "metadata": {},
   "outputs": [],
   "source": [
    "with open('..//data//prompts_modules//instructions.json', encoding='utf-8') as arq_instrucoes:\n",
    "  instrucoes = json.load(arq_instrucoes)\n",
    "  \n",
    "instruction = instrucoes[\"generate\"][\"plain\"]"
   ]
  },
  {
   "cell_type": "code",
   "execution_count": 7,
   "metadata": {},
   "outputs": [
    {
     "name": "stdout",
     "output_type": "stream",
     "text": [
      "Numero de tokens: 401\n"
     ]
    },
    {
     "data": {
      "text/plain": [
       "'\\n\\n### Instrução:\\nGere uma análise financeira sobre\\n\\n### Empresa:\\nEneva\\n\\n### Fato Relevante:\\nProposta Não-Vinculante para Fusão de Iguais com Vibra Energia S.A. – Resposta do Conselho de Administração da Vibra\\nRio de Janeiro, 28 de novembro de 2023 – ENEVA S.A. (“Eneva” ou “Companhia”) (B3: ENEV3),\\nem atendimento ao disposto no artigo 157, § 4.º da Lei n.º 6.404, de 15 de dezembro de 1976,\\ne na Resolução CVM n.º 44, de 23 de agosto de 2021, e em continuidade ao fato relevante\\ndivulgado em 26 de novembro de 2023 a respeito do envio de proposta de combinação de\\nnegócios ao Conselho de Administração da Vibra Energia S.A. (“Proposta” e “Vibra”) (B3:\\nVBBR3), vem comunicar a seus acionistas e ao mercado em geral que, por meio de\\ncorrespondência recebida na data de hoje (cuja cópia consta anexa), a Vibra informou à Eneva\\nque seu Conselho de Administração rejeitou a Proposta.\\nA administração da Companhia avaliará tal resposta oportunamente e a Eneva se compromete\\na manter seus acionistas e o mercado em geral informados a respeito de novos desdobramentos\\nrelevantes a respeito deste tema na forma da lei e da regulamentação da Comissão de Valores\\nMobiliários – CVM.\\n\\n### Resposta:\\n'"
      ]
     },
     "execution_count": 7,
     "metadata": {},
     "output_type": "execute_result"
    }
   ],
   "source": [
    "prompt = prompt_template.format_messages(\n",
    "                    empresa=empresa,\n",
    "                    fato=fato,\n",
    "                    instruction=instruction)\n",
    "\n",
    "print(\"Numero de tokens:\", num_tokens_from_string(prompt[0].content, encoding))\n",
    "prompt[0].content"
   ]
  },
  {
   "cell_type": "markdown",
   "metadata": {},
   "source": [
    "#### **gpt-3.5-turbo-1106**"
   ]
  },
  {
   "cell_type": "code",
   "execution_count": 8,
   "metadata": {},
   "outputs": [],
   "source": [
    "response = model(prompt)"
   ]
  },
  {
   "cell_type": "code",
   "execution_count": 9,
   "metadata": {},
   "outputs": [
    {
     "data": {
      "text/plain": [
       "'A proposta de fusão de iguais com a Vibra Energia S.A. foi rejeitada pelo Conselho de Administração da Vibra, conforme comunicado recebido pela Eneva. A administração da Eneva avaliará a resposta oportunamente e se compromete a manter seus acionistas e o mercado informados sobre novos desdobramentos relevantes. Esta situação pode impactar a estratégia de crescimento e expansão da Eneva, e os investidores devem acompanhar de perto os próximos passos da empresa. A rejeição da proposta pode influenciar a performance financeira e o valor das ações da Eneva no curto e médio prazo.'"
      ]
     },
     "execution_count": 9,
     "metadata": {},
     "output_type": "execute_result"
    }
   ],
   "source": [
    "response.content"
   ]
  },
  {
   "cell_type": "markdown",
   "metadata": {},
   "source": [
    "##### Resposta"
   ]
  },
  {
   "cell_type": "markdown",
   "metadata": {},
   "source": [
    "'A proposta de fusão de iguais com a Vibra Energia S.A. foi rejeitada pelo Conselho de Administração da Vibra, conforme comunicado recebido pela Eneva. A administração da Eneva avaliará a resposta oportunamente e se compromete a manter seus acionistas e o mercado informados sobre novos desdobramentos relevantes. Esta situação pode impactar a estratégia de crescimento e expansão da Eneva, e os investidores devem acompanhar de perto os próximos passos da empresa. A rejeição da proposta pode influenciar a performance financeira e o valor das ações da Eneva no curto e médio prazo.'"
   ]
  },
  {
   "cell_type": "markdown",
   "metadata": {},
   "source": [
    "#### **gpt-3.5-turbo-0613**"
   ]
  },
  {
   "cell_type": "code",
   "execution_count": 8,
   "metadata": {},
   "outputs": [],
   "source": [
    "response = model(prompt)"
   ]
  },
  {
   "cell_type": "code",
   "execution_count": 9,
   "metadata": {},
   "outputs": [
    {
     "data": {
      "text/plain": [
       "'A Eneva informou que recebeu a resposta do Conselho de Administração da Vibra Energia S.A. rejeitando a proposta de fusão de iguais entre as duas empresas. A Eneva irá avaliar a resposta oportunamente e se compromete a manter seus acionistas e o mercado informados sobre novos desdobramentos relevantes relacionados a esse tema.'"
      ]
     },
     "execution_count": 9,
     "metadata": {},
     "output_type": "execute_result"
    }
   ],
   "source": [
    "response.content"
   ]
  },
  {
   "cell_type": "markdown",
   "metadata": {},
   "source": [
    "##### Resposta"
   ]
  },
  {
   "cell_type": "markdown",
   "metadata": {},
   "source": [
    "'A Eneva informou que recebeu a resposta do Conselho de Administração da Vibra Energia S.A. rejeitando a proposta de fusão de iguais entre as duas empresas. A Eneva irá avaliar a resposta oportunamente e se compromete a manter seus acionistas e o mercado informados sobre novos desdobramentos relevantes relacionados a esse tema.'"
   ]
  }
 ],
 "metadata": {
  "kernelspec": {
   "display_name": "Python 3",
   "language": "python",
   "name": "python3"
  },
  "language_info": {
   "codemirror_mode": {
    "name": "ipython",
    "version": 3
   },
   "file_extension": ".py",
   "mimetype": "text/x-python",
   "name": "python",
   "nbconvert_exporter": "python",
   "pygments_lexer": "ipython3",
   "version": "3.11.6"
  }
 },
 "nbformat": 4,
 "nbformat_minor": 2
}
