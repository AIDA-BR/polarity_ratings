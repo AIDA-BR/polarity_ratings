{
 "cells": [
  {
   "cell_type": "code",
   "execution_count": 1,
   "metadata": {},
   "outputs": [
    {
     "data": {
      "text/plain": [
       "True"
      ]
     },
     "execution_count": 1,
     "metadata": {},
     "output_type": "execute_result"
    }
   ],
   "source": [
    "from scipy.special import softmax\n",
    "from dotenv import load_dotenv\n",
    "import json\n",
    "import os\n",
    "\n",
    "load_dotenv()"
   ]
  },
  {
   "cell_type": "code",
   "execution_count": 2,
   "metadata": {},
   "outputs": [],
   "source": [
    "prompt = ''''You should answer the following question with Yes or No only.\n",
    "\n",
    "question: Is this an analysis that covers the most relevant topics of the document? \n",
    "\n",
    "### analysis: \n",
    "Petrobras Looks to Increase Production Through Tenders Under Production Sharing Regime   \n",
    "Petrobras announced its interest in exercising its right of first refusal for the Jaspe block in the Campos Basin, a move aligned with the company's strategy of focusing on profitable assets and replenishing oil and gas reserves. This decision comes under the Production Sharing Regime, which aims to increase investment and boost production in the Brazilian oil and gas sector. \n",
    "While this move by Petrobras aligns with their stated goals and strategies, it's imperative to closely monitor how this affects the company's performance and returns. The success of the Jaspe block will determine the feasibility of future investments under the Production Sharing Regime. \n",
    "\n",
    "### document:\n",
    "Petrobras expresses interest in area under the Production Sharing regime\n",
    "Rio de Janeiro, January 24, 2024 - Petróleo Brasileiro S.A. - Petrobras informs that it expressed today to the National Energy Policy Council (CNPE) its interest in the right of first refusal in a block to be tendered in the Permanent Offer System, under the Production Sharing Regime, under the terms of Law 12,351/2010 and Federal Decree 9,041/2017.\n",
    "Petrobras approved the expression of interest in the right of first refusal in the Jaspe block, located in the Campos Basin, considering the parameters disclosed in CNPE Resolution No. 11, of December 20, 2023, published on December 27, 2023.\n",
    "pression of interest is in line with the E&P strategy set out in SP 24-28+, focusing on profitable assets and replenishing oil and gas reserves.\n",
    "Material facts on the subject will be disclosed to the market in due course.The ex\n",
    "'''"
   ]
  },
  {
   "cell_type": "code",
   "execution_count": 3,
   "metadata": {},
   "outputs": [],
   "source": [
    "an = '''Petrobras Looks to Increase Production Through Tenders Under Production Sharing Regime   \n",
    "Petrobras announced its interest in exercising its right of first refusal for the Jaspe block in the Campos Basin, a move aligned with the company's strategy of focusing on profitable assets and replenishing oil and gas reserves. This decision comes under the Production Sharing Regime, which aims to increase investment and boost production in the Brazilian oil and gas sector. \n",
    "While this move by Petrobras aligns with their stated goals and strategies, it's imperative to closely monitor how this affects the company's performance and returns. The success of the Jaspe block will determine the feasibility of future investments under the Production Sharing Regime. '''"
   ]
  },
  {
   "cell_type": "code",
   "execution_count": 7,
   "metadata": {},
   "outputs": [],
   "source": [
    "dc = '''Petrobras expresses interest in area under the Production Sharing regime\n",
    "Rio de Janeiro, January 24, 2024 - Petróleo Brasileiro S.A. - Petrobras informs that it expressed today to the National Energy Policy Council (CNPE) its interest in the right of first refusal in a block to be tendered in the Permanent Offer System, under the Production Sharing Regime, under the terms of Law 12,351/2010 and Federal Decree 9,041/2017.\n",
    "Petrobras approved the expression of interest in the right of first refusal in the Jaspe block, located in the Campos Basin, considering the parameters disclosed in CNPE Resolution No. 11, of December 20, 2023, published on December 27, 2023.\n",
    "pression of interest is in line with the E&P strategy set out in SP 24-28+, focusing on profitable assets and replenishing oil and gas reserves.\n",
    "Material facts on the subject will be disclosed to the market in due course.The ex'''"
   ]
  },
  {
   "cell_type": "code",
   "execution_count": 3,
   "metadata": {},
   "outputs": [
    {
     "name": "stdout",
     "output_type": "stream",
     "text": [
      "ChatCompletionMessage(content='Yes', role='assistant', function_call=None, tool_calls=None)\n",
      "ChoiceLogprobs(content=[ChatCompletionTokenLogprob(token='Yes', bytes=[89, 101, 115], logprob=-0.008350736, top_logprobs=[TopLogprob(token='Yes', bytes=[89, 101, 115], logprob=-0.008350736), TopLogprob(token='No', bytes=[78, 111], logprob=-4.789601), TopLogprob(token=' Yes', bytes=[32, 89, 101, 115], logprob=-15.57085), TopLogprob(token='YES', bytes=[89, 69, 83], logprob=-18.367725), TopLogprob(token='yes', bytes=[121, 101, 115], logprob=-18.398975)])])\n"
     ]
    }
   ],
   "source": [
    "import openai\n",
    "from openai import OpenAI\n",
    "client = OpenAI()\n",
    "openai.key = os.environ['OPENAI_API_KEY']\n",
    "\n",
    "completion = client.chat.completions.create(\n",
    "  model=\"gpt-4-turbo-preview\",\n",
    "  messages=[\n",
    "    {\"role\": \"user\", \"content\": f'{prompt}'}\n",
    "  ],\n",
    "  logprobs=True,\n",
    "  top_logprobs=5,\n",
    "  temperature=0,\n",
    "  max_tokens=1\n",
    ")\n",
    "\n",
    "print(completion.choices[0].message)\n",
    "print(completion.choices[0].logprobs)"
   ]
  },
  {
   "cell_type": "code",
   "execution_count": 4,
   "metadata": {},
   "outputs": [
    {
     "data": {
      "text/plain": [
       "ChatCompletionMessage(content='Yes', role='assistant', function_call=None, tool_calls=None)"
      ]
     },
     "execution_count": 4,
     "metadata": {},
     "output_type": "execute_result"
    }
   ],
   "source": [
    "completion.choices[0].message"
   ]
  },
  {
   "cell_type": "code",
   "execution_count": 14,
   "metadata": {},
   "outputs": [
    {
     "data": {
      "text/plain": [
       "-0.008350736"
      ]
     },
     "execution_count": 14,
     "metadata": {},
     "output_type": "execute_result"
    }
   ],
   "source": [
    "completion.choices[0].logprobs.content[0].logprob"
   ]
  },
  {
   "cell_type": "code",
   "execution_count": 15,
   "metadata": {},
   "outputs": [],
   "source": [
    "probs = completion.choices[0].logprobs.content[0].top_logprobs"
   ]
  },
  {
   "cell_type": "code",
   "execution_count": 22,
   "metadata": {},
   "outputs": [],
   "source": [
    "def save_json(name, tokens, path=\"\"):\n",
    "    data = {\n",
    "        \"src\": name,\n",
    "        \"tokens\": tokens\n",
    "    }\n",
    "    \n",
    "    filename = f\"`{path}{name}.json\"\n",
    "    \n",
    "    # Salvando o dicionário como um arquivo JSON\n",
    "    with open(filename, 'w') as file:\n",
    "        json.dump(data, file, indent=4)"
   ]
  },
  {
   "cell_type": "code",
   "execution_count": 23,
   "metadata": {},
   "outputs": [],
   "source": [
    "vetor = []\n",
    "for prob in probs:\n",
    "    aux = [prob.token, prob.logprob]\n",
    "    vetor.append(aux)\n",
    "\n",
    "save_json(\"teste\", vetor)"
   ]
  },
  {
   "cell_type": "code",
   "execution_count": 30,
   "metadata": {},
   "outputs": [
    {
     "data": {
      "text/plain": [
       "ChoiceLogprobs(content=[ChatCompletionTokenLogprob(token='Yes', bytes=[89, 101, 115], logprob=-0.008350736, top_logprobs=[TopLogprob(token='Yes', bytes=[89, 101, 115], logprob=-0.008350736), TopLogprob(token='No', bytes=[78, 111], logprob=-4.789601), TopLogprob(token=' Yes', bytes=[32, 89, 101, 115], logprob=-15.57085), TopLogprob(token='YES', bytes=[89, 69, 83], logprob=-18.367725), TopLogprob(token='yes', bytes=[121, 101, 115], logprob=-18.398975)])])"
      ]
     },
     "execution_count": 30,
     "metadata": {},
     "output_type": "execute_result"
    }
   ],
   "source": [
    "completion.choices[0].logprobs"
   ]
  },
  {
   "cell_type": "code",
   "execution_count": null,
   "metadata": {},
   "outputs": [],
   "source": []
  },
  {
   "cell_type": "code",
   "execution_count": 4,
   "metadata": {},
   "outputs": [],
   "source": [
    "PROMPTS = {\n",
    "    \"relevance\": \"You should answer the following question with Yes or No only.\\nIs this an analysis that covers the most relevant topics of the document?\\n\\n###analysis:\\n{analysis}\\n\\n###document:\\n{document}\"\n",
    "}"
   ]
  },
  {
   "cell_type": "code",
   "execution_count": 5,
   "metadata": {},
   "outputs": [],
   "source": [
    "def replace_variables_in_prompt(key, **variables):\n",
    "\n",
    "    if key in PROMPTS:\n",
    "        prompt_template = PROMPTS[key]\n",
    "        return prompt_template.format(**variables)\n",
    "    else:\n",
    "        return \"Chave de prompt não encontrada.\""
   ]
  },
  {
   "cell_type": "code",
   "execution_count": 8,
   "metadata": {},
   "outputs": [
    {
     "name": "stdout",
     "output_type": "stream",
     "text": [
      "You should answer the following question with Yes or No only.\n",
      "Is this an analysis that covers the most relevant topics of the document?\n",
      "\n",
      "###analysis:\n",
      "Petrobras Looks to Increase Production Through Tenders Under Production Sharing Regime   \n",
      "Petrobras announced its interest in exercising its right of first refusal for the Jaspe block in the Campos Basin, a move aligned with the company's strategy of focusing on profitable assets and replenishing oil and gas reserves. This decision comes under the Production Sharing Regime, which aims to increase investment and boost production in the Brazilian oil and gas sector. \n",
      "While this move by Petrobras aligns with their stated goals and strategies, it's imperative to closely monitor how this affects the company's performance and returns. The success of the Jaspe block will determine the feasibility of future investments under the Production Sharing Regime. \n",
      "\n",
      "###document:\n",
      "Petrobras expresses interest in area under the Production Sharing regime\n",
      "Rio de Janeiro, January 24, 2024 - Petróleo Brasileiro S.A. - Petrobras informs that it expressed today to the National Energy Policy Council (CNPE) its interest in the right of first refusal in a block to be tendered in the Permanent Offer System, under the Production Sharing Regime, under the terms of Law 12,351/2010 and Federal Decree 9,041/2017.\n",
      "Petrobras approved the expression of interest in the right of first refusal in the Jaspe block, located in the Campos Basin, considering the parameters disclosed in CNPE Resolution No. 11, of December 20, 2023, published on December 27, 2023.\n",
      "pression of interest is in line with the E&P strategy set out in SP 24-28+, focusing on profitable assets and replenishing oil and gas reserves.\n",
      "Material facts on the subject will be disclosed to the market in due course.The ex\n"
     ]
    }
   ],
   "source": [
    "a = replace_variables_in_prompt(\"relevance\", analysis=an, document=dc)\n",
    "\n",
    "print(a)"
   ]
  },
  {
   "cell_type": "code",
   "execution_count": 25,
   "metadata": {},
   "outputs": [
    {
     "data": {
      "text/plain": [
       "'You should answer the following question with Yes or No only.\\nIs this an analysis that covers the most relevant topics of the document?\\n\\n###analysis:{analysis}\\n\\n###document:{document}'"
      ]
     },
     "execution_count": 25,
     "metadata": {},
     "output_type": "execute_result"
    }
   ],
   "source": [
    "PROMPTS['relevance']"
   ]
  },
  {
   "cell_type": "code",
   "execution_count": 10,
   "metadata": {},
   "outputs": [],
   "source": [
    "a = softmax([-0.007846756, -4.851597])"
   ]
  },
  {
   "cell_type": "code",
   "execution_count": 12,
   "metadata": {},
   "outputs": [
    {
     "data": {
      "text/plain": [
       "0.00781588689711749"
      ]
     },
     "execution_count": 12,
     "metadata": {},
     "output_type": "execute_result"
    }
   ],
   "source": [
    "a[1]"
   ]
  },
  {
   "cell_type": "code",
   "execution_count": 20,
   "metadata": {},
   "outputs": [],
   "source": [
    "prompt2 = '''You will be given one analysis written based on a document.\n",
    "\n",
    "Your task is to rate the analysis on one metric.\n",
    "\n",
    "Please make sure you read and understand these instructions carefully. Please keep this document open while reviewing, and refer to it as needed.\n",
    "\n",
    "\n",
    "Evaluation Criteria:\n",
    "\n",
    "Fluency (1-3): the quality of the analysis in terms of grammar, spelling, punctuation, word choice, and sentence structure.\n",
    "\n",
    "- 1: Poor. The analysis has many errors that make it hard to understand or sound unnatural.\n",
    "- 2: Fair. The analysis has some errors that affect the clarity or smoothness of the text, but the main points are still comprehensible.\n",
    "- 3: Good. The analysis has few or no errors and is easy to read and follow.\n",
    "\n",
    "\n",
    "Example:\n",
    "\n",
    "Analysis:\n",
    "Petrobras Looks to Increase Production Through Tenders Under Production Sharing Regime   \n",
    "Petrobras announced its interest in exercising its right of first refusal for the Jaspe block in the Campos Basin, a move aligned with the company's strategy of focusing on profitable assets and replenishing oil and gas reserves. This decision comes under the Production Sharing Regime, which aims to increase investment and boost production in the Brazilian oil and gas sector. \n",
    "While this move by Petrobras aligns with their stated goals and strategies, it's imperative to closely monitor how this affects the company's performance and returns. The success of the Jaspe block will determine the feasibility of future investments under the Production Sharing Regime. \n",
    "\n",
    "\n",
    "Evaluation Form (scores ONLY):\n",
    "\n",
    "- Fluency (1-3):\n",
    "\n",
    "'''"
   ]
  },
  {
   "cell_type": "code",
   "execution_count": 21,
   "metadata": {},
   "outputs": [
    {
     "name": "stdout",
     "output_type": "stream",
     "text": [
      "ChatCompletionMessage(content='3', role='assistant', function_call=None, tool_calls=None)\n",
      "ChoiceLogprobs(content=[ChatCompletionTokenLogprob(token='3', bytes=[51], logprob=-7.89631e-07, top_logprobs=[TopLogprob(token='3', bytes=[51], logprob=-7.89631e-07), TopLogprob(token='Fl', bytes=[70, 108], logprob=-14.625001), TopLogprob(token='Evaluation', bytes=[69, 118, 97, 108, 117, 97, 116, 105, 111, 110], logprob=-15.437501), TopLogprob(token='2', bytes=[50], logprob=-17.109375), TopLogprob(token='Score', bytes=[83, 99, 111, 114, 101], logprob=-17.78125)])])\n"
     ]
    }
   ],
   "source": [
    "completion = client.chat.completions.create(\n",
    "  model=\"gpt-4-turbo-preview\",\n",
    "  messages=[\n",
    "    {\"role\": \"user\", \"content\": f'{prompt2}'}\n",
    "  ],\n",
    "  logprobs=True,\n",
    "  top_logprobs=5,\n",
    "  temperature=0,\n",
    "  max_tokens=1\n",
    ")\n",
    "\n",
    "print(completion.choices[0].message)\n",
    "print(completion.choices[0].logprobs)"
   ]
  }
 ],
 "metadata": {
  "kernelspec": {
   "display_name": "Python 3",
   "language": "python",
   "name": "python3"
  },
  "language_info": {
   "codemirror_mode": {
    "name": "ipython",
    "version": 3
   },
   "file_extension": ".py",
   "mimetype": "text/x-python",
   "name": "python",
   "nbconvert_exporter": "python",
   "pygments_lexer": "ipython3",
   "version": "3.11.6"
  }
 },
 "nbformat": 4,
 "nbformat_minor": 2
}
